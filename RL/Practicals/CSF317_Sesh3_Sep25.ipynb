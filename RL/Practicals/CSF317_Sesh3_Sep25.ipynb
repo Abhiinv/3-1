{
 "cells": [
  {
   "cell_type": "markdown",
   "metadata": {},
   "source": [
    "# Gambler's Problem"
   ]
  },
  {
   "cell_type": "code",
   "execution_count": null,
   "metadata": {},
   "outputs": [],
   "source": [
    "import numpy as np\n",
    "import pandas as pd\n",
    "import matplotlib.pyplot as plt\n",
    "\n",
    "import seaborn as sns\n",
    "sns.set_theme(style=\"darkgrid\", palette=\"deep\")\n",
    "%matplotlib inline"
   ]
  },
  {
   "cell_type": "markdown",
   "metadata": {},
   "source": [
    "![Value Iteration Pseudocode](images/value_iteration_pseudocode.jpeg)"
   ]
  },
  {
   "cell_type": "code",
   "execution_count": null,
   "metadata": {},
   "outputs": [],
   "source": [
    "NUM_STATES = 100\n",
    "NUM_TERMINALS = 1\n",
    "TRANSITION_PROBABILITY = 0.4\n",
    "DISCOUNT_FACTOR = 1\n",
    "THRESHOLD = 1e-50"
   ]
  },
  {
   "cell_type": "code",
   "execution_count": null,
   "metadata": {},
   "outputs": [],
   "source": [
    "def one_step_lookahead(p_h, s, V, rewards, gamma):\n",
    "    A = np.zeros(NUM_STATES + NUM_TERMINALS)\n",
    "\n",
    "    for a in range(1, min(s, NUM_STATES - s) + 1):\n",
    "        A[a] = p_h * (rewards[s + a] + V[s + a] * gamma) + (1 - p_h) * (rewards[s - a] + V[s - a] * gamma)\n",
    "\n",
    "    return A\n",
    "\n",
    "\n",
    "def value_iteration_for_gamblers(p_h, gamma=0.99, theta=1e-5):\n",
    "    rewards = np.zeros(NUM_STATES + NUM_TERMINALS) # 0-100\n",
    "    rewards[100] = 1\n",
    "\n",
    "    V = np.zeros(NUM_STATES + NUM_TERMINALS)\n",
    "    num_iterations = 0\n",
    "\n",
    "    history = {\n",
    "        \"state_values\": [ V.copy() ],\n",
    "        \"delta\" : []\n",
    "    } \n",
    "\n",
    "    while True:\n",
    "        delta = 0\n",
    "\n",
    "        for s in range(1, NUM_STATES):\n",
    "            best_action_value = V[s]\n",
    "            V[s] = np.max(one_step_lookahead(p_h, s, V, rewards, gamma))\n",
    "            delta = max(delta, np.abs(best_action_value - V[s]))\n",
    "\n",
    "        num_iterations += 1\n",
    "        history[\"state_values\"].append(V.copy())\n",
    "        history[\"delta\"].append(delta)\n",
    "\n",
    "        if delta <= theta:\n",
    "            break\n",
    "\n",
    "\n",
    "    print(f\"Num Iterations: {num_iterations}\")\n",
    "    policy = np.zeros(NUM_STATES)\n",
    "    for s in range(1, NUM_STATES):\n",
    "        policy[s] = np.argmax(one_step_lookahead(p_h, s, V, rewards, gamma))\n",
    "\n",
    "    return policy, V, history"
   ]
  },
  {
   "cell_type": "code",
   "execution_count": null,
   "metadata": {},
   "outputs": [],
   "source": [
    "policy, V, history = value_iteration_for_gamblers(TRANSITION_PROBABILITY, gamma=DISCOUNT_FACTOR, theta=THRESHOLD)"
   ]
  },
  {
   "cell_type": "code",
   "execution_count": null,
   "metadata": {},
   "outputs": [],
   "source": [
    "# Plotting Final Policy (action stake) vs State (Capital)\n",
    "# The graph shows the value function found by successive sweeps of value iteration\n",
    "\n",
    "plt.figure(figsize=(30, 5))\n",
    "\n",
    "plt.title('Final Policy vs Stake')\n",
    "plt.xlabel('Capital')\n",
    "plt.ylabel('Value Estimate')\n",
    "\n",
    "sns.lineplot(x=np.arange(100), y=V[:NUM_STATES])"
   ]
  },
  {
   "cell_type": "code",
   "execution_count": null,
   "metadata": {},
   "outputs": [],
   "source": [
    "# Plot Each Sweep(History)\n",
    "plt.figure(figsize=(30, 10))\n",
    "\n",
    "for idx, sweep in enumerate(history[\"state_values\"]):\n",
    "    sns.lineplot(x=np.arange(100), y=sweep[:NUM_STATES], label=f\"Sweep {idx}\")\n",
    "    # print(sweep.shape)\n",
    "    # break\n",
    "\n",
    "plt.legend()"
   ]
  },
  {
   "cell_type": "code",
   "execution_count": null,
   "metadata": {},
   "outputs": [],
   "source": [
    "# Plotting Capital vs Final Policy\n",
    "plt.figure(figsize=(30, 10))\n",
    "\n",
    "plt.title('Capital vs Final Policy')  # title to the graph\n",
    "plt.xlabel('Capital')                 # naming the x axis\n",
    "plt.ylabel('Final policy (stake)')    # naming the y axis\n",
    "\n",
    "sns.barplot(x=np.arange(100), y=policy)  # plotting the bars"
   ]
  }
 ],
 "metadata": {
  "interpreter": {
   "hash": "47a315ad2c746ccae36dcb639cdfe5a64496b51c60959dc41c355f9e56d2b9a3"
  },
  "kernelspec": {
   "display_name": "Python 3.7.11 64-bit ('rl': conda)",
   "name": "python3"
  },
  "language_info": {
   "codemirror_mode": {
    "name": "ipython",
    "version": 3
   },
   "file_extension": ".py",
   "mimetype": "text/x-python",
   "name": "python",
   "nbconvert_exporter": "python",
   "pygments_lexer": "ipython3",
   "version": "3.7.11"
  },
  "orig_nbformat": 4
 },
 "nbformat": 4,
 "nbformat_minor": 2
}
