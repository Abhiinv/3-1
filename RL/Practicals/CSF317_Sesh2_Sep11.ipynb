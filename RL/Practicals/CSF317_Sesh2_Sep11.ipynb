{
 "cells": [
  {
   "cell_type": "code",
   "execution_count": null,
   "metadata": {},
   "outputs": [],
   "source": [
    "import numpy as np\n",
    "import pandas as pd\n",
    "import matplotlib.pyplot as plt\n",
    "from tqdm import tqdm\n",
    "\n",
    "import seaborn as sns\n",
    "sns.set_theme(style=\"darkgrid\", palette=\"deep\")\n",
    "%matplotlib inline"
   ]
  },
  {
   "cell_type": "code",
   "execution_count": null,
   "metadata": {},
   "outputs": [],
   "source": [
    "import gym"
   ]
  },
  {
   "cell_type": "code",
   "execution_count": null,
   "metadata": {},
   "outputs": [],
   "source": [
    "# Frozen Lake Environment\n",
    "# 0 reward per step; +1 for escaping\n",
    "# Agent Slides: i.e. Stochasticity\n",
    "# Holdes(H) Terminate Episode\n",
    "# Frozen(F) blocks are safe to walk over\n",
    "# Start(S) -> End(G)\n",
    "# \n",
    "# Action Space:\n",
    "# Left: 0\n",
    "# Down: 1\n",
    "# Right: 2\n",
    "# Top: 3"
   ]
  },
  {
   "cell_type": "code",
   "execution_count": null,
   "metadata": {},
   "outputs": [],
   "source": [
    "### Instantiate our Environment\n",
    "\n",
    "env = gym.make('FrozenLake-v1')\n",
    "env.render()"
   ]
  },
  {
   "cell_type": "code",
   "execution_count": null,
   "metadata": {},
   "outputs": [],
   "source": [
    "# Example usage\n",
    "\n",
    "env.reset()\n",
    "action = env.action_space.sample()\n",
    "print(f\"Action Taken: {action}\")\n",
    "obs, reward, done, prob = env.step(action=action) \n",
    "env.render()\n",
    "print((obs, reward, done, prob))"
   ]
  },
  {
   "cell_type": "markdown",
   "metadata": {},
   "source": [
    "# Random Policy"
   ]
  },
  {
   "cell_type": "code",
   "execution_count": null,
   "metadata": {},
   "outputs": [],
   "source": [
    "num_episodes = int(1e5)\n",
    "win_pct = []\n",
    "total_rewards = []\n",
    "\n",
    "for episode in tqdm(range(num_episodes)):\n",
    "    obs = env.reset()\n",
    "    done = False\n",
    "    total_reward = 0\n",
    "\n",
    "\n",
    "    while not done:\n",
    "        action = env.action_space.sample() # Choose a random action\n",
    "        obs, reward, done, info = env.step(action=action)\n",
    "\n",
    "        total_reward += reward\n",
    "\n",
    "\n",
    "    total_rewards.append(total_reward)\n",
    "\n",
    "    if not episode % 100:\n",
    "        avg = np.mean(total_rewards[-10:]) * 100\n",
    "        win_pct.append(avg)\n"
   ]
  },
  {
   "cell_type": "code",
   "execution_count": null,
   "metadata": {},
   "outputs": [],
   "source": [
    "plt.figure(figsize=(40, 10))\n",
    "plt.plot(win_pct)"
   ]
  },
  {
   "cell_type": "markdown",
   "metadata": {},
   "source": [
    "# Reasonable Deterministic Policy\n",
    "\n",
    "![Deterministic Policy](images/det_policy.jpeg)"
   ]
  },
  {
   "cell_type": "code",
   "execution_count": null,
   "metadata": {},
   "outputs": [],
   "source": [
    "policy = {0: 1, 1: 2, 2: 1, 3: 0, 4: 1, 6: 1, 8: 2, 9: 1, 10: 1, 13: 2, 14: 2}\n",
    "\n",
    "num_episodes = int(1e5)\n",
    "win_pct = []\n",
    "total_rewards = []\n",
    "\n",
    "for episode in tqdm(range(num_episodes)):\n",
    "    obs = env.reset()\n",
    "    done = False\n",
    "    total_reward = 0\n",
    "\n",
    "    while not done:\n",
    "        action = policy[obs]  # Choose a random action\n",
    "        # print(obs)\n",
    "        obs, reward, done, info = env.step(action=action)\n",
    "\n",
    "        total_reward += reward\n",
    "\n",
    "    total_rewards.append(total_reward)\n",
    "\n",
    "    if not episode % 100:\n",
    "        avg = np.mean(total_rewards[-10:]) * 100\n",
    "        win_pct.append(avg)\n"
   ]
  },
  {
   "cell_type": "code",
   "execution_count": null,
   "metadata": {},
   "outputs": [],
   "source": [
    "plt.figure(figsize=(40, 10))\n",
    "plt.plot(win_pct)"
   ]
  }
 ],
 "metadata": {
  "interpreter": {
   "hash": "47a315ad2c746ccae36dcb639cdfe5a64496b51c60959dc41c355f9e56d2b9a3"
  },
  "kernelspec": {
   "display_name": "Python 3.7.11 64-bit ('rl': conda)",
   "name": "python3"
  },
  "language_info": {
   "codemirror_mode": {
    "name": "ipython",
    "version": 3
   },
   "file_extension": ".py",
   "mimetype": "text/x-python",
   "name": "python",
   "nbconvert_exporter": "python",
   "pygments_lexer": "ipython3",
   "version": "3.7.11"
  },
  "orig_nbformat": 4
 },
 "nbformat": 4,
 "nbformat_minor": 2
}
